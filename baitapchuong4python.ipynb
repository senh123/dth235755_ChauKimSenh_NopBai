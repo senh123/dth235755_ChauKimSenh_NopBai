{
 "cells": [
  {
   "cell_type": "code",
   "execution_count": 1,
   "id": "9b393c34",
   "metadata": {},
   "outputs": [
    {
     "name": "stdout",
     "output_type": "stream",
     "text": [
      "Chương trình tính diện tích Tam Giác\n",
      "Diện tích tam giác = 3.799671038392666\n"
     ]
    }
   ],
   "source": [
    "#cau1\n",
    "from math import sqrt\n",
    "\n",
    "print(\"Chương trình tính diện tích Tam Giác\")\n",
    "a = float(input(\"Nhập cạnh a > 0: \"))\n",
    "b = float(input(\"Nhập cạnh b > 0: \"))\n",
    "c = float(input(\"Nhập cạnh c > 0: \"))\n",
    "\n",
    "if (a <= 0 or b <= 0 or c <= 0) or (a + b <= c) or (a + c <= b) or (b + c <= a):\n",
    "    print(\"Tam giác không hợp lệ\")\n",
    "else:\n",
    "    cv = a + b + c\n",
    "    p = cv / 2\n",
    "    dt = sqrt(p * (p - a) * (p - b) * (p - c))\n",
    "    print(\"Diện tích tam giác =\", dt)\n"
   ]
  },
  {
   "cell_type": "code",
   "execution_count": 2,
   "id": "c467b6cc",
   "metadata": {},
   "outputs": [
    {
     "name": "stdout",
     "output_type": "stream",
     "text": [
      "Bạn đoán lần thứ 1\n",
      "Bạn đoán sai, số máy > số bạn\n",
      "Bạn đoán lần thứ 2\n",
      "Bạn đoán sai, số máy > số bạn\n",
      "Bạn đoán lần thứ 3\n",
      "Bạn đoán sai, số máy > số bạn\n",
      "Bạn đoán lần thứ 4\n",
      "Bạn đoán sai, số máy > số bạn\n",
      "Bạn đoán lần thứ 5\n",
      "Bạn đoán sai, số máy > số bạn\n",
      "Bạn đoán lần thứ 6\n",
      "Bạn đoán sai, số máy > số bạn\n",
      "Bạn đoán lần thứ 7\n",
      "Bạn đoán sai, số máy > số bạn\n",
      "💀 GAME OVER! Số máy = 30\n",
      "Cám ơn bạn đã chơi game!\n"
     ]
    }
   ],
   "source": [
    "#cau2\n",
    "from random import randrange\n",
    "\n",
    "while True:\n",
    "    somay = randrange(1, 101)\n",
    "    solandoan = 0\n",
    "    win = False\n",
    "    while solandoan < 7:\n",
    "        solandoan += 1\n",
    "        songuoi = int(input(\"Máy ra số [1..100], mời bạn đoán: \"))\n",
    "        print(\"Bạn đoán lần thứ\", solandoan)\n",
    "        if somay == songuoi:\n",
    "            print(\"🎉 Chúc mừng bạn đoán đúng! Số máy là =\", somay)\n",
    "            win = True\n",
    "            break\n",
    "        elif somay > songuoi:\n",
    "            print(\"Bạn đoán sai, số máy > số bạn\")\n",
    "        else:\n",
    "            print(\"Bạn đoán sai, số máy < số bạn\")\n",
    "\n",
    "    if not win:\n",
    "        print(\"💀 GAME OVER! Số máy =\", somay)\n",
    "\n",
    "    hoi = input(\"Tiếp tục? (k để thoát): \")\n",
    "    if hoi.lower() == \"k\":\n",
    "        break\n",
    "\n",
    "print(\"Cám ơn bạn đã chơi game!\")\n"
   ]
  },
  {
   "cell_type": "code",
   "execution_count": 4,
   "id": "9f063bae",
   "metadata": {},
   "outputs": [
    {
     "name": "stdout",
     "output_type": "stream",
     "text": [
      "Nhập vào chiều cao (m): \n",
      "Nhập vào cân nặng (kg): \n",
      "BMI của bạn = 0.75\n",
      "Phân loại: Gầy\n",
      "Nguy cơ bệnh: Thấp\n"
     ]
    }
   ],
   "source": [
    "#cau3\n",
    "def BMI(height, weight):\n",
    "    return weight / (height ** 2)\n",
    "\n",
    "def PhanLoai(bmi):\n",
    "    if bmi < 18.5:\n",
    "        return \"Gầy\"\n",
    "    elif bmi <= 24.9:\n",
    "        return \"Bình thường\"\n",
    "    elif bmi <= 29.9:\n",
    "        return \"Hơi béo\"\n",
    "    elif bmi <= 34.9:\n",
    "        return \"Béo phì cấp độ 1\"\n",
    "    elif bmi <= 39.9:\n",
    "        return \"Béo phì cấp độ 2\"\n",
    "    else:\n",
    "        return \"Béo phì cấp độ 3\"\n",
    "\n",
    "def NguyCoBenh(bmi):\n",
    "    if bmi < 18.5:\n",
    "        return \"Thấp\"\n",
    "    elif bmi <= 24.9:\n",
    "        return \"Trung bình\"\n",
    "    elif bmi <= 29.9:\n",
    "        return \"Cao\"\n",
    "    elif bmi <= 34.9:\n",
    "        return \"Rất cao\"\n",
    "    elif bmi <= 39.9:\n",
    "        return \"Rất cao\"\n",
    "    else:\n",
    "        return \"Nguy hiểm\"\n",
    "\n",
    "print(\"Nhập vào chiều cao (m): \")\n",
    "height = float(input())\n",
    "print(\"Nhập vào cân nặng (kg): \")\n",
    "weight = float(input())\n",
    "\n",
    "bmi = BMI(height, weight)\n",
    "print(\"BMI của bạn =\", bmi)\n",
    "print(\"Phân loại:\", PhanLoai(bmi))\n",
    "print(\"Nguy cơ bệnh:\", NguyCoBenh(bmi))\n"
   ]
  },
  {
   "cell_type": "code",
   "execution_count": null,
   "id": "25526972",
   "metadata": {},
   "outputs": [
    {
     "name": "stdout",
     "output_type": "stream",
     "text": [
      "Chương trình tính ROI\n",
      "Tỉ lệ ROI = 1999.0\n",
      "==> Nên đầu tư\n"
     ]
    }
   ],
   "source": [
    "#cau4\n",
    "def ROI(dt, cp):\n",
    "    return (dt - cp) / cp\n",
    "\n",
    "def GoiYDauTu(roi):\n",
    "    if roi >= 0.75:\n",
    "        return \"Nên đầu tư\"\n",
    "    else:\n",
    "        return \"Không nên đầu tư\"\n",
    "\n",
    "print(\"Chương trình tính ROI\")\n",
    "dt = float(input(\"Nhập Doanh thu: \"))\n",
    "cp = float(input(\"Nhập Chi phí: \"))\n",
    "roi = ROI(dt, cp)\n",
    "print(\"Tỉ lệ ROI =\", roi)\n",
    "print(\"==>\", GoiYDauTu(roi))\n"
   ]
  },
  {
   "cell_type": "code",
   "execution_count": 6,
   "id": "4dffc069",
   "metadata": {},
   "outputs": [
    {
     "name": "stdout",
     "output_type": "stream",
     "text": [
      "Số Fibonacci thứ 9 là: 34\n",
      "Dãy Fibonacci tới n=9:\n",
      "1\t1\t2\t3\t5\t8\t13\t21\t34\t\n"
     ]
    }
   ],
   "source": [
    "#cau5\n",
    "def fibonacci(n):\n",
    "    if n <= 2:\n",
    "        return 1\n",
    "    return fibonacci(n - 1) + fibonacci(n - 2)\n",
    "\n",
    "def listfibo(n):\n",
    "    for i in range(1, n + 1):\n",
    "        print(fibonacci(i), end='\\t')\n",
    "    print()\n",
    "\n",
    "print(\"Số Fibonacci thứ 9 là:\", fibonacci(9))\n",
    "print(\"Dãy Fibonacci tới n=9:\")\n",
    "listfibo(9)\n"
   ]
  },
  {
   "cell_type": "code",
   "execution_count": 7,
   "id": "1b7dcad7",
   "metadata": {},
   "outputs": [
    {
     "name": "stdout",
     "output_type": "stream",
     "text": [
      "Độ dài đoạn AB = 2.8284271247461903\n"
     ]
    }
   ],
   "source": [
    "#cau7\n",
    "from math import sqrt\n",
    "\n",
    "xA = float(input(\"Nhập xA: \"))\n",
    "yA = float(input(\"Nhập yA: \"))\n",
    "xB = float(input(\"Nhập xB: \"))\n",
    "yB = float(input(\"Nhập yB: \"))\n",
    "\n",
    "AB = sqrt((xB - xA) ** 2 + (yB - yA) ** 2)\n",
    "print(\"Độ dài đoạn AB =\", AB)\n"
   ]
  },
  {
   "cell_type": "code",
   "execution_count": null,
   "id": "f4b68664",
   "metadata": {},
   "outputs": [
    {
     "name": "stdout",
     "output_type": "stream",
     "text": [
      "log cơ số 2.0 của 3.0 = 1.5849625007211563\n"
     ]
    }
   ],
   "source": [
    "#cau8\n",
    "from math import log\n",
    "\n",
    "a = float(input(\"Nhập cơ số a (>0, ≠1): \"))\n",
    "x = float(input(\"Nhập giá trị x (>0): \"))\n",
    "\n",
    "if a <= 0 or a == 1 or x <= 0:\n",
    "    print(\"Dữ liệu không hợp lệ!\")\n",
    "else:\n",
    "    loga_x = log(x) / log(a)\n",
    "    print(f\"log cơ số {a} của {x} = {loga_x}\")"
   ]
  },
  {
   "cell_type": "code",
   "execution_count": 9,
   "id": "312b05d2",
   "metadata": {},
   "outputs": [
    {
     "name": "stdout",
     "output_type": "stream",
     "text": [
      "Kết quả căn bậc 2 lồng nhau 2 cấp là: 1.8477590650225735\n"
     ]
    }
   ],
   "source": [
    "#cau9\n",
    "from math import sqrt\n",
    "\n",
    "n = int(input(\"Nhập số cấp căn bậc 2 lồng nhau: \"))\n",
    "s = 0\n",
    "for i in range(n):\n",
    "    s = sqrt(2 + s)\n",
    "print(f\"Kết quả căn bậc 2 lồng nhau {n} cấp là: {s}\")\n"
   ]
  },
  {
   "cell_type": "code",
   "execution_count": 10,
   "id": "397a5c68",
   "metadata": {},
   "outputs": [
    {
     "name": "stdout",
     "output_type": "stream",
     "text": [
      "-4 4 -3 3 -2 2 -1 1 0 0 1 -1 2 -2 3 -3 4 -4 "
     ]
    }
   ],
   "source": [
    "#cau12\n",
    "def oscillate(n):\n",
    "    for i in range(-n, n + 1):\n",
    "        print(i, -i, end=' ')\n",
    "\n",
    "oscillate(4)\n"
   ]
  },
  {
   "cell_type": "code",
   "execution_count": 14,
   "id": "e43cd019",
   "metadata": {},
   "outputs": [
    {
     "name": "stdout",
     "output_type": "stream",
     "text": [
      "14 không phải số hoàn thiện hay thịnh vượng\n"
     ]
    }
   ],
   "source": [
    "#cau14\n",
    "def tong_uoc(n):\n",
    "    tong = 0\n",
    "    for i in range(1, n):\n",
    "        if n % i == 0:\n",
    "            tong += i\n",
    "    return tong\n",
    "\n",
    "def so_hoan_thien(n):\n",
    "    return tong_uoc(n) == n\n",
    "\n",
    "def so_thinh_vuong(n):\n",
    "    return tong_uoc(n) > n\n",
    "\n",
    "n = int(input(\"Nhập số nguyên dương n: \"))\n",
    "if so_hoan_thien(n):\n",
    "    print(n, \"là số hoàn thiện\")\n",
    "elif so_thinh_vuong(n):\n",
    "    print(n, \"là số thịnh vượng\")\n",
    "else:\n",
    "    print(n, \"không phải số hoàn thiện hay thịnh vượng\")\n"
   ]
  }
 ],
 "metadata": {
  "kernelspec": {
   "display_name": "Python 3",
   "language": "python",
   "name": "python3"
  },
  "language_info": {
   "codemirror_mode": {
    "name": "ipython",
    "version": 3
   },
   "file_extension": ".py",
   "mimetype": "text/x-python",
   "name": "python",
   "nbconvert_exporter": "python",
   "pygments_lexer": "ipython3",
   "version": "3.14.0"
  }
 },
 "nbformat": 4,
 "nbformat_minor": 5
}
